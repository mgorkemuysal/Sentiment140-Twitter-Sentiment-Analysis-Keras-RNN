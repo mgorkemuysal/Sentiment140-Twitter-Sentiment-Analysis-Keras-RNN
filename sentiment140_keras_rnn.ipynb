{
  "nbformat": 4,
  "nbformat_minor": 0,
  "metadata": {
    "colab": {
      "name": "sentiment140_keras_rnn.ipynb",
      "provenance": [],
      "collapsed_sections": [],
      "authorship_tag": "ABX9TyPTf51QVdvXyVqPep733ZkS",
      "include_colab_link": true
    },
    "kernelspec": {
      "name": "python3",
      "display_name": "Python 3"
    },
    "accelerator": "GPU"
  },
  "cells": [
    {
      "cell_type": "markdown",
      "metadata": {
        "id": "view-in-github",
        "colab_type": "text"
      },
      "source": [
        "<a href=\"https://colab.research.google.com/github/mgorkemuysal/Sentiment140-Twitter-Sentiment-Analysis-Keras-RNN/blob/master/sentiment140_keras_rnn.ipynb\" target=\"_parent\"><img src=\"https://colab.research.google.com/assets/colab-badge.svg\" alt=\"Open In Colab\"/></a>"
      ]
    },
    {
      "cell_type": "markdown",
      "metadata": {
        "id": "mW03C50Lmeob",
        "colab_type": "text"
      },
      "source": [
        "# **Downloading and Preparing the Data**\n",
        "Download Twitter data from Kaggle using kaggle.json file"
      ]
    },
    {
      "cell_type": "code",
      "metadata": {
        "id": "DnCoRfOqZzvi",
        "colab_type": "code",
        "outputId": "dd9f2f79-64d4-4476-c97d-03da798495df",
        "colab": {
          "base_uri": "https://localhost:8080/",
          "height": 72
        }
      },
      "source": [
        "import os \n",
        "os.environ['KAGGLE_USERNAME'] = \"mgorkemuysal\"\n",
        "os.environ['KAGGLE_KEY'] = \"KAGGLE_KEY_FROM_KAGGLE.JSON\"\n",
        "!kaggle datasets download -d kazanova/sentiment140"
      ],
      "execution_count": 0,
      "outputs": [
        {
          "output_type": "stream",
          "text": [
            "Downloading sentiment140.zip to /content\n",
            " 98% 79.0M/80.9M [00:01<00:00, 34.6MB/s]\n",
            "100% 80.9M/80.9M [00:01<00:00, 54.1MB/s]\n"
          ],
          "name": "stdout"
        }
      ]
    },
    {
      "cell_type": "code",
      "metadata": {
        "id": "eAbuuk1HanM6",
        "colab_type": "code",
        "colab": {}
      },
      "source": [
        "from zipfile import ZipFile\n",
        "with ZipFile('sentiment140.zip', 'r') as zip:\n",
        "  # zip.printdir()\n",
        "  zip.extractall()"
      ],
      "execution_count": 0,
      "outputs": []
    },
    {
      "cell_type": "code",
      "metadata": {
        "id": "gXvq6QOka5gy",
        "colab_type": "code",
        "outputId": "a94f8866-a930-4b7b-fed8-c54da09761e9",
        "colab": {
          "base_uri": "https://localhost:8080/",
          "height": 35
        }
      },
      "source": [
        "!ls"
      ],
      "execution_count": 0,
      "outputs": [
        {
          "output_type": "stream",
          "text": [
            "sample_data  sentiment140.zip  training.1600000.processed.noemoticon.csv\n"
          ],
          "name": "stdout"
        }
      ]
    },
    {
      "cell_type": "markdown",
      "metadata": {
        "id": "TVkoYEUlm1E0",
        "colab_type": "text"
      },
      "source": [
        "# **Inspecting Sentiment140 Twitter data**\n",
        "Sentiment140 dataset contains 1600000 tweets and 6 fields. The fields are target(sentiment), id, date, flag, username and text. Text is tweets which includes special characters(@#., etc.), urls(http://twitter.com etc.) and numbers. We need to clean this text field before construct any model."
      ]
    },
    {
      "cell_type": "code",
      "metadata": {
        "id": "gJWmS7c-a7s7",
        "colab_type": "code",
        "outputId": "015155f0-dbc4-427c-b49c-e9972bfdb7f9",
        "colab": {
          "base_uri": "https://localhost:8080/",
          "height": 381
        }
      },
      "source": [
        "import pandas as pd\n",
        "\n",
        "col_names = ['target', 'ids', 'date', 'flag', 'user', 'text']\n",
        "df = pd.read_csv('training.1600000.processed.noemoticon.csv', encoding = 'latin-1', names = col_names, header = None)\n",
        "print('Dataset Size:', len(df))\n",
        "df.head(10)"
      ],
      "execution_count": 0,
      "outputs": [
        {
          "output_type": "stream",
          "text": [
            "Dataset Size: 1600000\n"
          ],
          "name": "stdout"
        },
        {
          "output_type": "execute_result",
          "data": {
            "text/html": [
              "<div>\n",
              "<style scoped>\n",
              "    .dataframe tbody tr th:only-of-type {\n",
              "        vertical-align: middle;\n",
              "    }\n",
              "\n",
              "    .dataframe tbody tr th {\n",
              "        vertical-align: top;\n",
              "    }\n",
              "\n",
              "    .dataframe thead th {\n",
              "        text-align: right;\n",
              "    }\n",
              "</style>\n",
              "<table border=\"1\" class=\"dataframe\">\n",
              "  <thead>\n",
              "    <tr style=\"text-align: right;\">\n",
              "      <th></th>\n",
              "      <th>target</th>\n",
              "      <th>ids</th>\n",
              "      <th>date</th>\n",
              "      <th>flag</th>\n",
              "      <th>user</th>\n",
              "      <th>text</th>\n",
              "    </tr>\n",
              "  </thead>\n",
              "  <tbody>\n",
              "    <tr>\n",
              "      <th>0</th>\n",
              "      <td>0</td>\n",
              "      <td>1467810369</td>\n",
              "      <td>Mon Apr 06 22:19:45 PDT 2009</td>\n",
              "      <td>NO_QUERY</td>\n",
              "      <td>_TheSpecialOne_</td>\n",
              "      <td>@switchfoot http://twitpic.com/2y1zl - Awww, t...</td>\n",
              "    </tr>\n",
              "    <tr>\n",
              "      <th>1</th>\n",
              "      <td>0</td>\n",
              "      <td>1467810672</td>\n",
              "      <td>Mon Apr 06 22:19:49 PDT 2009</td>\n",
              "      <td>NO_QUERY</td>\n",
              "      <td>scotthamilton</td>\n",
              "      <td>is upset that he can't update his Facebook by ...</td>\n",
              "    </tr>\n",
              "    <tr>\n",
              "      <th>2</th>\n",
              "      <td>0</td>\n",
              "      <td>1467810917</td>\n",
              "      <td>Mon Apr 06 22:19:53 PDT 2009</td>\n",
              "      <td>NO_QUERY</td>\n",
              "      <td>mattycus</td>\n",
              "      <td>@Kenichan I dived many times for the ball. Man...</td>\n",
              "    </tr>\n",
              "    <tr>\n",
              "      <th>3</th>\n",
              "      <td>0</td>\n",
              "      <td>1467811184</td>\n",
              "      <td>Mon Apr 06 22:19:57 PDT 2009</td>\n",
              "      <td>NO_QUERY</td>\n",
              "      <td>ElleCTF</td>\n",
              "      <td>my whole body feels itchy and like its on fire</td>\n",
              "    </tr>\n",
              "    <tr>\n",
              "      <th>4</th>\n",
              "      <td>0</td>\n",
              "      <td>1467811193</td>\n",
              "      <td>Mon Apr 06 22:19:57 PDT 2009</td>\n",
              "      <td>NO_QUERY</td>\n",
              "      <td>Karoli</td>\n",
              "      <td>@nationwideclass no, it's not behaving at all....</td>\n",
              "    </tr>\n",
              "    <tr>\n",
              "      <th>5</th>\n",
              "      <td>0</td>\n",
              "      <td>1467811372</td>\n",
              "      <td>Mon Apr 06 22:20:00 PDT 2009</td>\n",
              "      <td>NO_QUERY</td>\n",
              "      <td>joy_wolf</td>\n",
              "      <td>@Kwesidei not the whole crew</td>\n",
              "    </tr>\n",
              "    <tr>\n",
              "      <th>6</th>\n",
              "      <td>0</td>\n",
              "      <td>1467811592</td>\n",
              "      <td>Mon Apr 06 22:20:03 PDT 2009</td>\n",
              "      <td>NO_QUERY</td>\n",
              "      <td>mybirch</td>\n",
              "      <td>Need a hug</td>\n",
              "    </tr>\n",
              "    <tr>\n",
              "      <th>7</th>\n",
              "      <td>0</td>\n",
              "      <td>1467811594</td>\n",
              "      <td>Mon Apr 06 22:20:03 PDT 2009</td>\n",
              "      <td>NO_QUERY</td>\n",
              "      <td>coZZ</td>\n",
              "      <td>@LOLTrish hey  long time no see! Yes.. Rains a...</td>\n",
              "    </tr>\n",
              "    <tr>\n",
              "      <th>8</th>\n",
              "      <td>0</td>\n",
              "      <td>1467811795</td>\n",
              "      <td>Mon Apr 06 22:20:05 PDT 2009</td>\n",
              "      <td>NO_QUERY</td>\n",
              "      <td>2Hood4Hollywood</td>\n",
              "      <td>@Tatiana_K nope they didn't have it</td>\n",
              "    </tr>\n",
              "    <tr>\n",
              "      <th>9</th>\n",
              "      <td>0</td>\n",
              "      <td>1467812025</td>\n",
              "      <td>Mon Apr 06 22:20:09 PDT 2009</td>\n",
              "      <td>NO_QUERY</td>\n",
              "      <td>mimismo</td>\n",
              "      <td>@twittera que me muera ?</td>\n",
              "    </tr>\n",
              "  </tbody>\n",
              "</table>\n",
              "</div>"
            ],
            "text/plain": [
              "   target  ...                                               text\n",
              "0       0  ...  @switchfoot http://twitpic.com/2y1zl - Awww, t...\n",
              "1       0  ...  is upset that he can't update his Facebook by ...\n",
              "2       0  ...  @Kenichan I dived many times for the ball. Man...\n",
              "3       0  ...    my whole body feels itchy and like its on fire \n",
              "4       0  ...  @nationwideclass no, it's not behaving at all....\n",
              "5       0  ...                      @Kwesidei not the whole crew \n",
              "6       0  ...                                        Need a hug \n",
              "7       0  ...  @LOLTrish hey  long time no see! Yes.. Rains a...\n",
              "8       0  ...               @Tatiana_K nope they didn't have it \n",
              "9       0  ...                          @twittera que me muera ? \n",
              "\n",
              "[10 rows x 6 columns]"
            ]
          },
          "metadata": {
            "tags": []
          },
          "execution_count": 4
        }
      ]
    },
    {
      "cell_type": "markdown",
      "metadata": {
        "id": "iWAjkVbGqXbj",
        "colab_type": "text"
      },
      "source": [
        "# **Drop unnecessary fields**\n",
        "Since our goal is to make sentiment analysis, we should drop unnecessary fields. We do not need any id, date, flag and username to make sentiment analysis. "
      ]
    },
    {
      "cell_type": "code",
      "metadata": {
        "id": "jpPZRz_acCBL",
        "colab_type": "code",
        "outputId": "e86f2bb1-7598-441e-836e-a4a2ea7b49ff",
        "colab": {
          "base_uri": "https://localhost:8080/",
          "height": 363
        }
      },
      "source": [
        "df = df.drop(['ids', 'date', 'flag', 'user'], axis = 1)\n",
        "df.head(10)"
      ],
      "execution_count": 0,
      "outputs": [
        {
          "output_type": "execute_result",
          "data": {
            "text/html": [
              "<div>\n",
              "<style scoped>\n",
              "    .dataframe tbody tr th:only-of-type {\n",
              "        vertical-align: middle;\n",
              "    }\n",
              "\n",
              "    .dataframe tbody tr th {\n",
              "        vertical-align: top;\n",
              "    }\n",
              "\n",
              "    .dataframe thead th {\n",
              "        text-align: right;\n",
              "    }\n",
              "</style>\n",
              "<table border=\"1\" class=\"dataframe\">\n",
              "  <thead>\n",
              "    <tr style=\"text-align: right;\">\n",
              "      <th></th>\n",
              "      <th>target</th>\n",
              "      <th>text</th>\n",
              "    </tr>\n",
              "  </thead>\n",
              "  <tbody>\n",
              "    <tr>\n",
              "      <th>0</th>\n",
              "      <td>0</td>\n",
              "      <td>@switchfoot http://twitpic.com/2y1zl - Awww, t...</td>\n",
              "    </tr>\n",
              "    <tr>\n",
              "      <th>1</th>\n",
              "      <td>0</td>\n",
              "      <td>is upset that he can't update his Facebook by ...</td>\n",
              "    </tr>\n",
              "    <tr>\n",
              "      <th>2</th>\n",
              "      <td>0</td>\n",
              "      <td>@Kenichan I dived many times for the ball. Man...</td>\n",
              "    </tr>\n",
              "    <tr>\n",
              "      <th>3</th>\n",
              "      <td>0</td>\n",
              "      <td>my whole body feels itchy and like its on fire</td>\n",
              "    </tr>\n",
              "    <tr>\n",
              "      <th>4</th>\n",
              "      <td>0</td>\n",
              "      <td>@nationwideclass no, it's not behaving at all....</td>\n",
              "    </tr>\n",
              "    <tr>\n",
              "      <th>5</th>\n",
              "      <td>0</td>\n",
              "      <td>@Kwesidei not the whole crew</td>\n",
              "    </tr>\n",
              "    <tr>\n",
              "      <th>6</th>\n",
              "      <td>0</td>\n",
              "      <td>Need a hug</td>\n",
              "    </tr>\n",
              "    <tr>\n",
              "      <th>7</th>\n",
              "      <td>0</td>\n",
              "      <td>@LOLTrish hey  long time no see! Yes.. Rains a...</td>\n",
              "    </tr>\n",
              "    <tr>\n",
              "      <th>8</th>\n",
              "      <td>0</td>\n",
              "      <td>@Tatiana_K nope they didn't have it</td>\n",
              "    </tr>\n",
              "    <tr>\n",
              "      <th>9</th>\n",
              "      <td>0</td>\n",
              "      <td>@twittera que me muera ?</td>\n",
              "    </tr>\n",
              "  </tbody>\n",
              "</table>\n",
              "</div>"
            ],
            "text/plain": [
              "   target                                               text\n",
              "0       0  @switchfoot http://twitpic.com/2y1zl - Awww, t...\n",
              "1       0  is upset that he can't update his Facebook by ...\n",
              "2       0  @Kenichan I dived many times for the ball. Man...\n",
              "3       0    my whole body feels itchy and like its on fire \n",
              "4       0  @nationwideclass no, it's not behaving at all....\n",
              "5       0                      @Kwesidei not the whole crew \n",
              "6       0                                        Need a hug \n",
              "7       0  @LOLTrish hey  long time no see! Yes.. Rains a...\n",
              "8       0               @Tatiana_K nope they didn't have it \n",
              "9       0                          @twittera que me muera ? "
            ]
          },
          "metadata": {
            "tags": []
          },
          "execution_count": 5
        }
      ]
    },
    {
      "cell_type": "code",
      "metadata": {
        "id": "wNQQyz21kBOa",
        "colab_type": "code",
        "outputId": "5ceaded0-fc2f-4a79-9b1f-88bc9a240380",
        "colab": {
          "base_uri": "https://localhost:8080/",
          "height": 182
        }
      },
      "source": [
        "df.info()"
      ],
      "execution_count": 0,
      "outputs": [
        {
          "output_type": "stream",
          "text": [
            "<class 'pandas.core.frame.DataFrame'>\n",
            "RangeIndex: 1600000 entries, 0 to 1599999\n",
            "Data columns (total 2 columns):\n",
            " #   Column  Non-Null Count    Dtype \n",
            "---  ------  --------------    ----- \n",
            " 0   target  1600000 non-null  int64 \n",
            " 1   text    1600000 non-null  object\n",
            "dtypes: int64(1), object(1)\n",
            "memory usage: 24.4+ MB\n"
          ],
          "name": "stdout"
        }
      ]
    },
    {
      "cell_type": "markdown",
      "metadata": {
        "id": "yFEIdZ67riH_",
        "colab_type": "text"
      },
      "source": [
        "# **Data Preprocessing**\n",
        "In the data preprocessing phase, we first determine what we want to clean from the tweet text. We need to get rid of special characters, punctuations and english stop words. In natural language processing, useless words(data), are referred to as stop words."
      ]
    },
    {
      "cell_type": "code",
      "metadata": {
        "id": "aiC_-GyXPI9T",
        "colab_type": "code",
        "outputId": "f3794b8f-27ea-422c-a1be-781e992b8366",
        "colab": {
          "base_uri": "https://localhost:8080/",
          "height": 110
        }
      },
      "source": [
        "import string\n",
        "from nltk.tokenize import TweetTokenizer\n",
        "from nltk.corpus import stopwords\n",
        "from nltk.stem import PorterStemmer, SnowballStemmer\n",
        "import nltk\n",
        "\n",
        "nltk.download('stopwords')\n",
        "\n",
        "punc = list(string.punctuation)\n",
        "print(punc)\n",
        "stopword_list = stopwords.words('english') + punc + ['rt', 'via', '..', '...']\n",
        "print(stopword_list)\n",
        "stemmer = SnowballStemmer('english')\n",
        "# stemmer = PorterStemmer()"
      ],
      "execution_count": 0,
      "outputs": [
        {
          "output_type": "stream",
          "text": [
            "[nltk_data] Downloading package stopwords to /root/nltk_data...\n",
            "[nltk_data]   Unzipping corpora/stopwords.zip.\n",
            "['!', '\"', '#', '$', '%', '&', \"'\", '(', ')', '*', '+', ',', '-', '.', '/', ':', ';', '<', '=', '>', '?', '@', '[', '\\\\', ']', '^', '_', '`', '{', '|', '}', '~']\n",
            "['i', 'me', 'my', 'myself', 'we', 'our', 'ours', 'ourselves', 'you', \"you're\", \"you've\", \"you'll\", \"you'd\", 'your', 'yours', 'yourself', 'yourselves', 'he', 'him', 'his', 'himself', 'she', \"she's\", 'her', 'hers', 'herself', 'it', \"it's\", 'its', 'itself', 'they', 'them', 'their', 'theirs', 'themselves', 'what', 'which', 'who', 'whom', 'this', 'that', \"that'll\", 'these', 'those', 'am', 'is', 'are', 'was', 'were', 'be', 'been', 'being', 'have', 'has', 'had', 'having', 'do', 'does', 'did', 'doing', 'a', 'an', 'the', 'and', 'but', 'if', 'or', 'because', 'as', 'until', 'while', 'of', 'at', 'by', 'for', 'with', 'about', 'against', 'between', 'into', 'through', 'during', 'before', 'after', 'above', 'below', 'to', 'from', 'up', 'down', 'in', 'out', 'on', 'off', 'over', 'under', 'again', 'further', 'then', 'once', 'here', 'there', 'when', 'where', 'why', 'how', 'all', 'any', 'both', 'each', 'few', 'more', 'most', 'other', 'some', 'such', 'no', 'nor', 'not', 'only', 'own', 'same', 'so', 'than', 'too', 'very', 's', 't', 'can', 'will', 'just', 'don', \"don't\", 'should', \"should've\", 'now', 'd', 'll', 'm', 'o', 're', 've', 'y', 'ain', 'aren', \"aren't\", 'couldn', \"couldn't\", 'didn', \"didn't\", 'doesn', \"doesn't\", 'hadn', \"hadn't\", 'hasn', \"hasn't\", 'haven', \"haven't\", 'isn', \"isn't\", 'ma', 'mightn', \"mightn't\", 'mustn', \"mustn't\", 'needn', \"needn't\", 'shan', \"shan't\", 'shouldn', \"shouldn't\", 'wasn', \"wasn't\", 'weren', \"weren't\", 'won', \"won't\", 'wouldn', \"wouldn't\", '!', '\"', '#', '$', '%', '&', \"'\", '(', ')', '*', '+', ',', '-', '.', '/', ':', ';', '<', '=', '>', '?', '@', '[', '\\\\', ']', '^', '_', '`', '{', '|', '}', '~', 'rt', 'via', '..', '...']\n"
          ],
          "name": "stdout"
        }
      ]
    },
    {
      "cell_type": "markdown",
      "metadata": {
        "id": "oUTSW6wytKwg",
        "colab_type": "text"
      },
      "source": [
        "Later, we need to define a regular expression to get rid of twitter mentions(@user_name), hashtags, urls and numbers. We also need a stemmer to find stem of words. Stemming is the process of reducing a word to its word stem that affixes to suffixes and prefixes or to the roots of words known as a lemma. Stemming makes training data more dense. It reduces the size of the dictionary. With less dimensions, training process will give better results. "
      ]
    },
    {
      "cell_type": "code",
      "metadata": {
        "id": "JtQfnil3Zey5",
        "colab_type": "code",
        "colab": {}
      },
      "source": [
        "import re\n",
        "\n",
        "TEXT_CLEANING_RE = '@\\S+|https?:\\S+|http?:\\S|[^A-Za-z0-9]+'\n",
        "stop_words = stopwords.words('english')\n",
        "\n",
        "def preprocess(text, stem=False):\n",
        "    # Remove link,user and special characters\n",
        "    text = re.sub(TEXT_CLEANING_RE, ' ', str(text).lower()).strip()\n",
        "    tokens = []\n",
        "    for token in text.split():\n",
        "        if token not in stop_words:\n",
        "            if stem:\n",
        "                tokens.append(stemmer.stem(token))\n",
        "            else:\n",
        "                tokens.append(token)\n",
        "    return ' '.join(tokens)"
      ],
      "execution_count": 0,
      "outputs": []
    },
    {
      "cell_type": "markdown",
      "metadata": {
        "id": "0HOtsfySvnRn",
        "colab_type": "text"
      },
      "source": [
        "# **Testing and Applying preprocessing on Text field**\n",
        "Before we apply preprocessing on all tweet text field, we should test it on one tweet. Since preprocessing gives the desired result, we can apply it to the entire text field."
      ]
    },
    {
      "cell_type": "code",
      "metadata": {
        "id": "4VH93sNURovU",
        "colab_type": "code",
        "outputId": "ad70a1aa-e082-4aed-b5f5-8451b268d267",
        "colab": {
          "base_uri": "https://localhost:8080/",
          "height": 109
        }
      },
      "source": [
        "sample_tweet = preprocess(df['text'][0])\n",
        "print('\\t--- Before ---\\n', df['text'][0])\n",
        "print('\\n\\t--- After ---\\n', sample_tweet)"
      ],
      "execution_count": 0,
      "outputs": [
        {
          "output_type": "stream",
          "text": [
            "\t--- Before ---\n",
            " @switchfoot http://twitpic.com/2y1zl - Awww, that's a bummer.  You shoulda got David Carr of Third Day to do it. ;D\n",
            "\n",
            "\t--- After ---\n",
            " awww bummer shoulda got david carr third day\n"
          ],
          "name": "stdout"
        }
      ]
    },
    {
      "cell_type": "code",
      "metadata": {
        "id": "0njsxjMVaiUQ",
        "colab_type": "code",
        "outputId": "7ce14159-0c46-4e70-cd0c-d96aeb7cc406",
        "colab": {
          "base_uri": "https://localhost:8080/",
          "height": 54
        }
      },
      "source": [
        "%%time\n",
        "df.text = df.text.apply(lambda x: preprocess(x))"
      ],
      "execution_count": 0,
      "outputs": [
        {
          "output_type": "stream",
          "text": [
            "CPU times: user 42.3 s, sys: 166 ms, total: 42.4 s\n",
            "Wall time: 42.4 s\n"
          ],
          "name": "stdout"
        }
      ]
    },
    {
      "cell_type": "code",
      "metadata": {
        "id": "QVPwgffMalkT",
        "colab_type": "code",
        "outputId": "597800cd-ca29-4b05-ac23-9f02cde68f74",
        "colab": {
          "base_uri": "https://localhost:8080/",
          "height": 363
        }
      },
      "source": [
        "df.head(10)"
      ],
      "execution_count": 0,
      "outputs": [
        {
          "output_type": "execute_result",
          "data": {
            "text/html": [
              "<div>\n",
              "<style scoped>\n",
              "    .dataframe tbody tr th:only-of-type {\n",
              "        vertical-align: middle;\n",
              "    }\n",
              "\n",
              "    .dataframe tbody tr th {\n",
              "        vertical-align: top;\n",
              "    }\n",
              "\n",
              "    .dataframe thead th {\n",
              "        text-align: right;\n",
              "    }\n",
              "</style>\n",
              "<table border=\"1\" class=\"dataframe\">\n",
              "  <thead>\n",
              "    <tr style=\"text-align: right;\">\n",
              "      <th></th>\n",
              "      <th>target</th>\n",
              "      <th>text</th>\n",
              "    </tr>\n",
              "  </thead>\n",
              "  <tbody>\n",
              "    <tr>\n",
              "      <th>0</th>\n",
              "      <td>0</td>\n",
              "      <td>awww bummer shoulda got david carr third day</td>\n",
              "    </tr>\n",
              "    <tr>\n",
              "      <th>1</th>\n",
              "      <td>0</td>\n",
              "      <td>upset update facebook texting might cry result...</td>\n",
              "    </tr>\n",
              "    <tr>\n",
              "      <th>2</th>\n",
              "      <td>0</td>\n",
              "      <td>dived many times ball managed save 50 rest go ...</td>\n",
              "    </tr>\n",
              "    <tr>\n",
              "      <th>3</th>\n",
              "      <td>0</td>\n",
              "      <td>whole body feels itchy like fire</td>\n",
              "    </tr>\n",
              "    <tr>\n",
              "      <th>4</th>\n",
              "      <td>0</td>\n",
              "      <td>behaving mad see</td>\n",
              "    </tr>\n",
              "    <tr>\n",
              "      <th>5</th>\n",
              "      <td>0</td>\n",
              "      <td>whole crew</td>\n",
              "    </tr>\n",
              "    <tr>\n",
              "      <th>6</th>\n",
              "      <td>0</td>\n",
              "      <td>need hug</td>\n",
              "    </tr>\n",
              "    <tr>\n",
              "      <th>7</th>\n",
              "      <td>0</td>\n",
              "      <td>hey long time see yes rains bit bit lol fine t...</td>\n",
              "    </tr>\n",
              "    <tr>\n",
              "      <th>8</th>\n",
              "      <td>0</td>\n",
              "      <td>nope</td>\n",
              "    </tr>\n",
              "    <tr>\n",
              "      <th>9</th>\n",
              "      <td>0</td>\n",
              "      <td>que muera</td>\n",
              "    </tr>\n",
              "  </tbody>\n",
              "</table>\n",
              "</div>"
            ],
            "text/plain": [
              "   target                                               text\n",
              "0       0       awww bummer shoulda got david carr third day\n",
              "1       0  upset update facebook texting might cry result...\n",
              "2       0  dived many times ball managed save 50 rest go ...\n",
              "3       0                   whole body feels itchy like fire\n",
              "4       0                                   behaving mad see\n",
              "5       0                                         whole crew\n",
              "6       0                                           need hug\n",
              "7       0  hey long time see yes rains bit bit lol fine t...\n",
              "8       0                                               nope\n",
              "9       0                                          que muera"
            ]
          },
          "metadata": {
            "tags": []
          },
          "execution_count": 11
        }
      ]
    },
    {
      "cell_type": "markdown",
      "metadata": {
        "id": "8p1_6lQWxo3J",
        "colab_type": "text"
      },
      "source": [
        "# **Dataset labels distribution**\n",
        "According to kaggle metadata, data of target(sentiment) field contains 0 --> negative and 4 --> positive. We should divide all field by 4 to get clear binary classification problem."
      ]
    },
    {
      "cell_type": "code",
      "metadata": {
        "id": "MPUQvOAPPCCk",
        "colab_type": "code",
        "colab": {}
      },
      "source": [
        "df['target'] = df['target'] / 4"
      ],
      "execution_count": 0,
      "outputs": []
    },
    {
      "cell_type": "code",
      "metadata": {
        "id": "AFPjj-KzJ-to",
        "colab_type": "code",
        "outputId": "85f470c2-d150-4a89-918d-038a457fc7e7",
        "colab": {
          "base_uri": "https://localhost:8080/",
          "height": 408
        }
      },
      "source": [
        "import matplotlib.pyplot as plt\n",
        "from collections import Counter\n",
        "\n",
        "target_cnt = Counter(df.target)\n",
        "plt.figure(figsize=(10,6))\n",
        "plt.bar(target_cnt.keys(), target_cnt.values())\n",
        "plt.title(\"Dataset labels distribuition\")"
      ],
      "execution_count": 0,
      "outputs": [
        {
          "output_type": "execute_result",
          "data": {
            "text/plain": [
              "Text(0.5, 1.0, 'Dataset labels distribuition')"
            ]
          },
          "metadata": {
            "tags": []
          },
          "execution_count": 13
        },
        {
          "output_type": "display_data",
          "data": {
            "image/png": "[encoded data removed]",
            "text/plain": [
              "<Figure size 720x432 with 1 Axes>"
            ]
          },
          "metadata": {
            "tags": [],
            "needs_background": "light"
          }
        }
      ]
    },
    {
      "cell_type": "markdown",
      "metadata": {
        "id": "UwF0H9nkzoap",
        "colab_type": "text"
      },
      "source": [
        "# **Preparing data for Deep Learning training and test**\n",
        "Before construct a training model, we need to prepare for it like converting training text into 2d tensors and splitting data as training and test. So first of all, we should split the data as 80% training and 20% test and shuffle them for satisfy randomness like real world."
      ]
    },
    {
      "cell_type": "code",
      "metadata": {
        "id": "BRuYg1lfUqTM",
        "colab_type": "code",
        "outputId": "b9916182-85d7-4d6f-d476-2a3e2d585856",
        "colab": {
          "base_uri": "https://localhost:8080/",
          "height": 54
        }
      },
      "source": [
        "from sklearn.model_selection import train_test_split\n",
        "\n",
        "df_train, df_test = train_test_split(df, test_size=0.2, random_state=42, shuffle=True)\n",
        "print(\"TRAIN size:\", len(df_train))\n",
        "print(\"TEST size:\", len(df_test))"
      ],
      "execution_count": 0,
      "outputs": [
        {
          "output_type": "stream",
          "text": [
            "TRAIN size: 1280000\n",
            "TEST size: 320000\n"
          ],
          "name": "stdout"
        }
      ]
    },
    {
      "cell_type": "markdown",
      "metadata": {
        "id": "nr1jLMY71qdl",
        "colab_type": "text"
      },
      "source": [
        "After splitting the data, we need to convert training text field into 2d tensors. To do this, we need:\n",
        "- a tokenizer to split text into words,\n",
        "- texts_to_sequences to turn strings into lists of integer indices,\n",
        "- pad_sequences to turn the lists of integers intoa 2D integer tensor of shape(training_data , maxlen). maxlen means that cuts off the text after this number of words. "
      ]
    },
    {
      "cell_type": "code",
      "metadata": {
        "id": "DN-PUmlHdP4t",
        "colab_type": "code",
        "outputId": "e50ee93d-b25c-4fa5-ec2e-d5d7dab77a87",
        "colab": {
          "base_uri": "https://localhost:8080/",
          "height": 54
        }
      },
      "source": [
        "from keras.preprocessing.text import Tokenizer\n",
        "from keras.preprocessing.sequence import pad_sequences\n",
        "\n",
        "tokenizer = Tokenizer()\n",
        "tokenizer.fit_on_texts(df_train.text)\n",
        "\n",
        "vocab_size = len(tokenizer.word_index) + 1\n",
        "print(\"Total words\", vocab_size)"
      ],
      "execution_count": 0,
      "outputs": [
        {
          "output_type": "stream",
          "text": [
            "Using TensorFlow backend.\n"
          ],
          "name": "stderr"
        },
        {
          "output_type": "stream",
          "text": [
            "Total words 290419\n"
          ],
          "name": "stdout"
        }
      ]
    },
    {
      "cell_type": "code",
      "metadata": {
        "id": "iULJPqvldqSr",
        "colab_type": "code",
        "colab": {}
      },
      "source": [
        "x_train = pad_sequences(tokenizer.texts_to_sequences(df_train.text), maxlen=300)\n",
        "x_test = pad_sequences(tokenizer.texts_to_sequences(df_test.text), maxlen=300)"
      ],
      "execution_count": 0,
      "outputs": []
    },
    {
      "cell_type": "code",
      "metadata": {
        "id": "U8U9DprtduxF",
        "colab_type": "code",
        "outputId": "017a3989-7b94-4a46-a6ed-1763246af96e",
        "colab": {
          "base_uri": "https://localhost:8080/",
          "height": 90
        }
      },
      "source": [
        "y_train = df_train.target\n",
        "y_test = df_test.target\n",
        "\n",
        "print(\"X_TRAIN size:\", len(x_train))\n",
        "print(\"Y_TRAIN size:\", len(y_train))\n",
        "print(\"X_TEST size:\", len(x_test))\n",
        "print(\"Y_TEST size:\", len(y_test))"
      ],
      "execution_count": 0,
      "outputs": [
        {
          "output_type": "stream",
          "text": [
            "X_TRAIN size: 1280000\n",
            "Y_TRAIN size: 1280000\n",
            "X_TEST size: 320000\n",
            "Y_TEST size: 320000\n"
          ],
          "name": "stdout"
        }
      ]
    },
    {
      "cell_type": "code",
      "metadata": {
        "id": "2l11CmRKelLA",
        "colab_type": "code",
        "outputId": "67e431b5-9de6-485d-ebc4-8dbc1b11225b",
        "colab": {
          "base_uri": "https://localhost:8080/",
          "height": 90
        }
      },
      "source": [
        "print(x_train.shape)\n",
        "print(y_train.shape)\n",
        "print(x_test.shape)\n",
        "print(y_test.shape)"
      ],
      "execution_count": 0,
      "outputs": [
        {
          "output_type": "stream",
          "text": [
            "(1280000, 300)\n",
            "(1280000,)\n",
            "(320000, 300)\n",
            "(320000,)\n"
          ],
          "name": "stdout"
        }
      ]
    },
    {
      "cell_type": "code",
      "metadata": {
        "id": "ck0FYCPQeonr",
        "colab_type": "code",
        "outputId": "47fafa79-a082-47a1-ef5b-37b6407c818f",
        "colab": {
          "base_uri": "https://localhost:8080/",
          "height": 146
        }
      },
      "source": [
        "x_train[:10]"
      ],
      "execution_count": 0,
      "outputs": [
        {
          "output_type": "execute_result",
          "data": {
            "text/plain": [
              "array([[    0,     0,     0, ...,   712,   118, 24590],\n",
              "       [    0,     0,     0, ...,   452,   378, 32447],\n",
              "       [    0,     0,     0, ...,  2048,     4,  5487],\n",
              "       ...,\n",
              "       [    0,     0,     0, ...,   276,   503,   117],\n",
              "       [    0,     0,     0, ...,   229,   849,  2348],\n",
              "       [    0,     0,     0, ...,   196,  2063,  1893]], dtype=int32)"
            ]
          },
          "metadata": {
            "tags": []
          },
          "execution_count": 19
        }
      ]
    },
    {
      "cell_type": "code",
      "metadata": {
        "id": "z-vDxoJ6fC1U",
        "colab_type": "code",
        "outputId": "f3fc7925-3930-455b-db32-10c071adeb41",
        "colab": {
          "base_uri": "https://localhost:8080/",
          "height": 219
        }
      },
      "source": [
        "y_train[:10]"
      ],
      "execution_count": 0,
      "outputs": [
        {
          "output_type": "execute_result",
          "data": {
            "text/plain": [
              "1374558    1.0\n",
              "1389115    1.0\n",
              "1137831    1.0\n",
              "790714     0.0\n",
              "1117911    1.0\n",
              "1077663    1.0\n",
              "1253991    1.0\n",
              "1535242    1.0\n",
              "1396460    1.0\n",
              "1178954    1.0\n",
              "Name: target, dtype: float64"
            ]
          },
          "metadata": {
            "tags": []
          },
          "execution_count": 20
        }
      ]
    },
    {
      "cell_type": "markdown",
      "metadata": {
        "id": "L01rHjrH5btK",
        "colab_type": "text"
      },
      "source": [
        "# **Building a Network using Embedding Layer**\n",
        "The Embedding layer is best understood as a dictionary that maps integer indices(which stand for specific words) to dense vectors. It takes integers as input, it looks upthese integers in an internal dictionary, and it returns the associated vectors. It’s effec-tively a dictionary lookup. \n",
        "The model consists of one embedding layer that:\n",
        "- takes 20000 size of vocabulary as input dimension, \n",
        "- gives 300 dimension  of the dense embedding as output\n",
        "- input_length is required to connect Flatten then Dense layers upstream (without it, the shape of the dense outputs cannot be computed).\n",
        "\n",
        "Because we have a binary-classification problem, the model end with 1 unit and sigmoid activation function. And also we need to use binary-crossentropy loss function same reasons."
      ]
    },
    {
      "cell_type": "code",
      "metadata": {
        "id": "8c9mhRWMfFOn",
        "colab_type": "code",
        "outputId": "61048e2f-91fe-43d3-b8af-b4e00fc2348c",
        "colab": {
          "base_uri": "https://localhost:8080/",
          "height": 311
        }
      },
      "source": [
        "from keras.models import Sequential\n",
        "from keras.layers import Flatten, Dense, Embedding\n",
        "\n",
        "max_len = 300\n",
        "\n",
        "model = Sequential()\n",
        "model.add(Embedding(20000, 300, input_length = max_len))\n",
        "model.add(Flatten())\n",
        "model.add(Dense(32, activation = 'relu'))\n",
        "model.add(Dense(1, activation='sigmoid'))\n",
        "\n",
        "model.summary()"
      ],
      "execution_count": 0,
      "outputs": [
        {
          "output_type": "stream",
          "text": [
            "Model: \"sequential_1\"\n",
            "_________________________________________________________________\n",
            "Layer (type)                 Output Shape              Param #   \n",
            "=================================================================\n",
            "embedding_1 (Embedding)      (None, 300, 300)          6000000   \n",
            "_________________________________________________________________\n",
            "flatten_1 (Flatten)          (None, 90000)             0         \n",
            "_________________________________________________________________\n",
            "dense_1 (Dense)              (None, 32)                2880032   \n",
            "_________________________________________________________________\n",
            "dense_2 (Dense)              (None, 1)                 33        \n",
            "=================================================================\n",
            "Total params: 8,880,065\n",
            "Trainable params: 8,880,065\n",
            "Non-trainable params: 0\n",
            "_________________________________________________________________\n"
          ],
          "name": "stdout"
        }
      ]
    },
    {
      "cell_type": "code",
      "metadata": {
        "id": "jMZpD7_Yf4Vr",
        "colab_type": "code",
        "colab": {}
      },
      "source": [
        "model.compile(optimizer='rmsprop', \n",
        "              loss='binary_crossentropy', \n",
        "              metrics=['accuracy'])"
      ],
      "execution_count": 0,
      "outputs": []
    },
    {
      "cell_type": "code",
      "metadata": {
        "id": "iM-3XlYHgBPA",
        "colab_type": "code",
        "outputId": "b93217b2-cd44-44c1-ca7b-ac9cb8df7010",
        "colab": {
          "base_uri": "https://localhost:8080/",
          "height": 459
        }
      },
      "source": [
        "history = model.fit(x_train, y_train,\n",
        "                    epochs=10,\n",
        "                    batch_size=1024,\n",
        "                    validation_split=0.2) "
      ],
      "execution_count": 0,
      "outputs": [
        {
          "output_type": "stream",
          "text": [
            "/usr/local/lib/python3.6/dist-packages/tensorflow/python/framework/indexed_slices.py:434: UserWarning: Converting sparse IndexedSlices to a dense Tensor of unknown shape. This may consume a large amount of memory.\n",
            "  \"Converting sparse IndexedSlices to a dense Tensor of unknown shape. \"\n"
          ],
          "name": "stderr"
        },
        {
          "output_type": "stream",
          "text": [
            "Train on 1024000 samples, validate on 256000 samples\n",
            "Epoch 1/10\n",
            "1024000/1024000 [==============================] - 58s 57us/step - loss: 0.4930 - accuracy: 0.7619 - val_loss: 0.4625 - val_accuracy: 0.7806\n",
            "Epoch 2/10\n",
            "1024000/1024000 [==============================] - 57s 55us/step - loss: 0.4483 - accuracy: 0.7887 - val_loss: 0.4589 - val_accuracy: 0.7826\n",
            "Epoch 3/10\n",
            "1024000/1024000 [==============================] - 57s 56us/step - loss: 0.4307 - accuracy: 0.7987 - val_loss: 0.4667 - val_accuracy: 0.7799\n",
            "Epoch 4/10\n",
            "1024000/1024000 [==============================] - 57s 56us/step - loss: 0.4097 - accuracy: 0.8108 - val_loss: 0.4791 - val_accuracy: 0.7780\n",
            "Epoch 5/10\n",
            "1024000/1024000 [==============================] - 57s 56us/step - loss: 0.3889 - accuracy: 0.8231 - val_loss: 0.4906 - val_accuracy: 0.7729\n",
            "Epoch 6/10\n",
            "1024000/1024000 [==============================] - 57s 56us/step - loss: 0.3684 - accuracy: 0.8346 - val_loss: 0.5162 - val_accuracy: 0.7647\n",
            "Epoch 7/10\n",
            "1024000/1024000 [==============================] - 57s 55us/step - loss: 0.3496 - accuracy: 0.8446 - val_loss: 0.5370 - val_accuracy: 0.7612\n",
            "Epoch 8/10\n",
            "1024000/1024000 [==============================] - 57s 56us/step - loss: 0.3310 - accuracy: 0.8548 - val_loss: 0.5609 - val_accuracy: 0.7600\n",
            "Epoch 9/10\n",
            "1024000/1024000 [==============================] - 57s 56us/step - loss: 0.3133 - accuracy: 0.8639 - val_loss: 0.5922 - val_accuracy: 0.7537\n",
            "Epoch 10/10\n",
            "1024000/1024000 [==============================] - 57s 55us/step - loss: 0.2954 - accuracy: 0.8729 - val_loss: 0.6186 - val_accuracy: 0.7522\n"
          ],
          "name": "stdout"
        }
      ]
    },
    {
      "cell_type": "markdown",
      "metadata": {
        "id": "iIaufNZo--kg",
        "colab_type": "text"
      },
      "source": [
        "# **Visualizing the Performance of the Model**\n",
        "We can clearly see that the model is overfitting (High accuracy - Low Loss and Low Validation Accuracy - High Validation Loss). The reasons why the model is overfitting may be:\n",
        "- insufficient embedding vector space(we should try pretrained word embeddings).\n",
        "- the model suffers from not having any memory to remember all sentence structure(we should try an LSTM model).\n",
        "\n",
        "Let's try these methods to construct a better model.\n"
      ]
    },
    {
      "cell_type": "code",
      "metadata": {
        "id": "Wx_fdaV0gMh3",
        "colab_type": "code",
        "outputId": "0aeddfa2-20c9-4708-f3f3-d5ddee316c95",
        "colab": {
          "base_uri": "https://localhost:8080/",
          "height": 545
        }
      },
      "source": [
        "import matplotlib.pyplot as plt\n",
        "\n",
        "acc = history.history['accuracy']\n",
        "val_acc = history.history['val_accuracy']\n",
        "loss = history.history['loss']\n",
        "val_loss = history.history['val_loss']\n",
        "epochs = range(1, len(acc) + 1)\n",
        "plt.plot(epochs, acc, 'bo', label='Training accuracy')\n",
        "plt.plot(epochs, val_acc, 'b', label='Validation accuracy')\n",
        "plt.title('Training and validation accuracy')\n",
        "plt.legend()\n",
        "plt.figure()\n",
        "plt.plot(epochs, loss, 'bo', label='Training loss')\n",
        "plt.plot(epochs, val_loss, 'b', label='Validation loss')\n",
        "plt.title('Training and validation loss')\n",
        "plt.legend()\n",
        "plt.show()"
      ],
      "execution_count": 0,
      "outputs": [
        {
          "output_type": "display_data",
          "data": {
            "image/png": "[encoded data removed]",
            "text/plain": [
              "<Figure size 432x288 with 1 Axes>"
            ]
          },
          "metadata": {
            "tags": [],
            "needs_background": "light"
          }
        },
        {
          "output_type": "display_data",
          "data": {
            "image/png": "[encoded data removed]",
            "text/plain": [
              "<Figure size 432x288 with 1 Axes>"
            ]
          },
          "metadata": {
            "tags": [],
            "needs_background": "light"
          }
        }
      ]
    },
    {
      "cell_type": "markdown",
      "metadata": {
        "id": "vdhGSdSXBCMD",
        "colab_type": "text"
      },
      "source": [
        "# **Using Pretrained Word Embedding**\n",
        "To solve first overfitting reason defined above, we should construct a embedding layer with pretrained Word2vec word embedding. A Word2vec model should include the words of our training text. So, we must construct a Word2vec model and train that model with the words of training text."
      ]
    },
    {
      "cell_type": "code",
      "metadata": {
        "id": "ZzqUWuUCoZHl",
        "colab_type": "code",
        "colab": {}
      },
      "source": [
        "import gensim\n",
        "\n",
        "documents = [text.split() for text in df_train.text]\n",
        "w2v_model = gensim.models.word2vec.Word2Vec(size=300, \n",
        "                                            window=7, \n",
        "                                            min_count=10, \n",
        "                                            workers=8)\n",
        "w2v_model.build_vocab(documents)"
      ],
      "execution_count": 0,
      "outputs": []
    },
    {
      "cell_type": "code",
      "metadata": {
        "id": "TLhAZ0ttq72b",
        "colab_type": "code",
        "outputId": "78f0e7b2-096f-4417-9aca-9d2f13364e93",
        "colab": {
          "base_uri": "https://localhost:8080/",
          "height": 35
        }
      },
      "source": [
        "words = w2v_model.wv.vocab.keys()\n",
        "vocab_size = len(words)\n",
        "print(\"Vocab size\", vocab_size)"
      ],
      "execution_count": 0,
      "outputs": [
        {
          "output_type": "stream",
          "text": [
            "Vocab size 30369\n"
          ],
          "name": "stdout"
        }
      ]
    },
    {
      "cell_type": "code",
      "metadata": {
        "id": "o3S_q0-SroEp",
        "colab_type": "code",
        "outputId": "5889fbd8-cac1-4ef0-c8c6-a68d2beaeec3",
        "colab": {
          "base_uri": "https://localhost:8080/",
          "height": 35
        }
      },
      "source": [
        "w2v_model.wv['model'].shape"
      ],
      "execution_count": 0,
      "outputs": [
        {
          "output_type": "execute_result",
          "data": {
            "text/plain": [
              "(300,)"
            ]
          },
          "metadata": {
            "tags": []
          },
          "execution_count": 27
        }
      ]
    },
    {
      "cell_type": "code",
      "metadata": {
        "id": "caoL6aEyrrHb",
        "colab_type": "code",
        "outputId": "c1b5b077-7ddf-401e-f405-7ac8be61e089",
        "colab": {
          "base_uri": "https://localhost:8080/",
          "height": 35
        }
      },
      "source": [
        "w2v_model.train(documents, total_examples=len(documents), epochs=32)"
      ],
      "execution_count": 0,
      "outputs": [
        {
          "output_type": "execute_result",
          "data": {
            "text/plain": [
              "(263117863, 295270528)"
            ]
          },
          "metadata": {
            "tags": []
          },
          "execution_count": 28
        }
      ]
    },
    {
      "cell_type": "code",
      "metadata": {
        "id": "UBy6I-Ejr3wz",
        "colab_type": "code",
        "outputId": "69419b97-b11d-4577-b15f-7d532c774e52",
        "colab": {
          "base_uri": "https://localhost:8080/",
          "height": 74
        }
      },
      "source": [
        "w2v_model.save('model.w2v')"
      ],
      "execution_count": 0,
      "outputs": [
        {
          "output_type": "stream",
          "text": [
            "/usr/local/lib/python3.6/dist-packages/smart_open/smart_open_lib.py:253: UserWarning: This function is deprecated, use smart_open.open instead. See the migration notes for details: https://github.com/RaRe-Technologies/smart_open/blob/master/README.rst#migrating-to-the-new-open-function\n",
            "  'See the migration notes for details: %s' % _MIGRATION_NOTES_URL\n"
          ],
          "name": "stderr"
        }
      ]
    },
    {
      "cell_type": "code",
      "metadata": {
        "id": "p3-bcXv4vayU",
        "colab_type": "code",
        "outputId": "7bd1a882-5530-4751-d06e-a8527fef77b8",
        "colab": {
          "base_uri": "https://localhost:8080/",
          "height": 294
        }
      },
      "source": [
        "w2v_model.most_similar('love')"
      ],
      "execution_count": 0,
      "outputs": [
        {
          "output_type": "stream",
          "text": [
            "/usr/local/lib/python3.6/dist-packages/ipykernel_launcher.py:1: DeprecationWarning: Call to deprecated `most_similar` (Method will be removed in 4.0.0, use self.wv.most_similar() instead).\n",
            "  \"\"\"Entry point for launching an IPython kernel.\n",
            "/usr/local/lib/python3.6/dist-packages/gensim/matutils.py:737: FutureWarning: Conversion of the second argument of issubdtype from `int` to `np.signedinteger` is deprecated. In future, it will be treated as `np.int64 == np.dtype(int).type`.\n",
            "  if np.issubdtype(vec.dtype, np.int):\n"
          ],
          "name": "stderr"
        },
        {
          "output_type": "execute_result",
          "data": {
            "text/plain": [
              "[('luv', 0.5742346048355103),\n",
              " ('loves', 0.546484649181366),\n",
              " ('loved', 0.5442296862602234),\n",
              " ('adore', 0.5271387696266174),\n",
              " ('amazing', 0.5061094760894775),\n",
              " ('looove', 0.49339559674263),\n",
              " ('loveee', 0.47563421726226807),\n",
              " ('lovee', 0.4687182307243347),\n",
              " ('awesome', 0.4623849391937256),\n",
              " ('loooove', 0.44378846883773804)]"
            ]
          },
          "metadata": {
            "tags": []
          },
          "execution_count": 30
        }
      ]
    },
    {
      "cell_type": "code",
      "metadata": {
        "id": "YmA6xkZ9wHiC",
        "colab_type": "code",
        "outputId": "95d9d413-06fd-4d35-9004-f0a1a804da9b",
        "colab": {
          "base_uri": "https://localhost:8080/",
          "height": 294
        }
      },
      "source": [
        "w2v_model.most_similar('world')"
      ],
      "execution_count": 0,
      "outputs": [
        {
          "output_type": "stream",
          "text": [
            "/usr/local/lib/python3.6/dist-packages/ipykernel_launcher.py:1: DeprecationWarning: Call to deprecated `most_similar` (Method will be removed in 4.0.0, use self.wv.most_similar() instead).\n",
            "  \"\"\"Entry point for launching an IPython kernel.\n",
            "/usr/local/lib/python3.6/dist-packages/gensim/matutils.py:737: FutureWarning: Conversion of the second argument of issubdtype from `int` to `np.signedinteger` is deprecated. In future, it will be treated as `np.int64 == np.dtype(int).type`.\n",
            "  if np.issubdtype(vec.dtype, np.int):\n"
          ],
          "name": "stderr"
        },
        {
          "output_type": "execute_result",
          "data": {
            "text/plain": [
              "[('earth', 0.4466097354888916),\n",
              " ('life', 0.39991867542266846),\n",
              " ('worlds', 0.38926005363464355),\n",
              " ('twitterverse', 0.3507654368877411),\n",
              " ('planet', 0.34573227167129517),\n",
              " ('ever', 0.3001565635204315),\n",
              " ('heartedly', 0.2970462143421173),\n",
              " ('universe', 0.29703855514526367),\n",
              " ('europe', 0.2895945906639099),\n",
              " ('individuals', 0.2860460877418518)]"
            ]
          },
          "metadata": {
            "tags": []
          },
          "execution_count": 31
        }
      ]
    },
    {
      "cell_type": "markdown",
      "metadata": {
        "id": "TIPaXp5hEu-U",
        "colab_type": "text"
      },
      "source": [
        "Next, we need to build an embedding matrix that we can load into an Embedding layer. It must be a matrix of shape (max_words, embedding_dim), where each entry i contains the 300-dimensional vector for the word of index i in the reference word index (built during tokenization). This embedding matrix will be the weights of the new embedding layer. In this way, we construct an embedding layer from pretrained word embeddings. Additionally, we need to freeze the Embedding layer(set its trainable attribute to False) for preventing pretrained network weights from being updated during training."
      ]
    },
    {
      "cell_type": "code",
      "metadata": {
        "id": "VQ7z3rQzwNny",
        "colab_type": "code",
        "outputId": "3e33c1aa-a87a-41c6-b05e-8eb8b6804671",
        "colab": {
          "base_uri": "https://localhost:8080/",
          "height": 35
        }
      },
      "source": [
        "import numpy as np\n",
        "\n",
        "vocab_size = 290419 # from tokenizer\n",
        "\n",
        "embedding_matrix = np.zeros((vocab_size, 300))\n",
        "for word, i in tokenizer.word_index.items():\n",
        "  if word in w2v_model.wv:\n",
        "    embedding_matrix[i] = w2v_model.wv[word]\n",
        "print(embedding_matrix.shape)"
      ],
      "execution_count": 0,
      "outputs": [
        {
          "output_type": "stream",
          "text": [
            "(290419, 300)\n"
          ],
          "name": "stdout"
        }
      ]
    },
    {
      "cell_type": "code",
      "metadata": {
        "id": "xQXrU4EewkwN",
        "colab_type": "code",
        "outputId": "98146a5a-8a07-422e-f37e-ea78564e7512",
        "colab": {
          "base_uri": "https://localhost:8080/",
          "height": 311
        }
      },
      "source": [
        "embedding_layer = Embedding(vocab_size, 300, weights=[embedding_matrix], input_length=300, trainable=False)\n",
        "\n",
        "model = Sequential()\n",
        "model.add(embedding_layer)\n",
        "model.add(Flatten())\n",
        "model.add(Dense(32, activation = 'relu'))\n",
        "model.add(Dense(1, activation = 'sigmoid'))\n",
        "\n",
        "model.summary()"
      ],
      "execution_count": 0,
      "outputs": [
        {
          "output_type": "stream",
          "text": [
            "Model: \"sequential_2\"\n",
            "_________________________________________________________________\n",
            "Layer (type)                 Output Shape              Param #   \n",
            "=================================================================\n",
            "embedding_2 (Embedding)      (None, 300, 300)          87125700  \n",
            "_________________________________________________________________\n",
            "flatten_2 (Flatten)          (None, 90000)             0         \n",
            "_________________________________________________________________\n",
            "dense_3 (Dense)              (None, 32)                2880032   \n",
            "_________________________________________________________________\n",
            "dense_4 (Dense)              (None, 1)                 33        \n",
            "=================================================================\n",
            "Total params: 90,005,765\n",
            "Trainable params: 2,880,065\n",
            "Non-trainable params: 87,125,700\n",
            "_________________________________________________________________\n"
          ],
          "name": "stdout"
        }
      ]
    },
    {
      "cell_type": "code",
      "metadata": {
        "id": "TGaWhdtg0Wfd",
        "colab_type": "code",
        "colab": {}
      },
      "source": [
        "model.compile(optimizer='rmsprop', \n",
        "              loss='binary_crossentropy', \n",
        "              metrics=['accuracy'])"
      ],
      "execution_count": 0,
      "outputs": []
    },
    {
      "cell_type": "code",
      "metadata": {
        "id": "VbVo-zng0iJU",
        "colab_type": "code",
        "outputId": "89326263-733b-403c-91d9-e7146e5d3a48",
        "colab": {
          "base_uri": "https://localhost:8080/",
          "height": 403
        }
      },
      "source": [
        "history = model.fit(x_train, y_train,\n",
        "                    epochs=10,\n",
        "                    batch_size=1024,\n",
        "                    validation_split=0.2)"
      ],
      "execution_count": 0,
      "outputs": [
        {
          "output_type": "stream",
          "text": [
            "Train on 1024000 samples, validate on 256000 samples\n",
            "Epoch 1/10\n",
            "1024000/1024000 [==============================] - 32s 31us/step - loss: 0.4875 - accuracy: 0.7624 - val_loss: 0.4751 - val_accuracy: 0.7706\n",
            "Epoch 2/10\n",
            "1024000/1024000 [==============================] - 32s 31us/step - loss: 0.4617 - accuracy: 0.7788 - val_loss: 0.4730 - val_accuracy: 0.7718\n",
            "Epoch 3/10\n",
            "1024000/1024000 [==============================] - 32s 31us/step - loss: 0.4470 - accuracy: 0.7883 - val_loss: 0.4739 - val_accuracy: 0.7721\n",
            "Epoch 4/10\n",
            "1024000/1024000 [==============================] - 32s 31us/step - loss: 0.4353 - accuracy: 0.7955 - val_loss: 0.4785 - val_accuracy: 0.7705\n",
            "Epoch 5/10\n",
            "1024000/1024000 [==============================] - 32s 31us/step - loss: 0.4257 - accuracy: 0.8012 - val_loss: 0.4843 - val_accuracy: 0.7689\n",
            "Epoch 6/10\n",
            "1024000/1024000 [==============================] - 32s 31us/step - loss: 0.4176 - accuracy: 0.8058 - val_loss: 0.4895 - val_accuracy: 0.7675\n",
            "Epoch 7/10\n",
            "1024000/1024000 [==============================] - 32s 31us/step - loss: 0.4107 - accuracy: 0.8100 - val_loss: 0.4953 - val_accuracy: 0.7651\n",
            "Epoch 8/10\n",
            "1024000/1024000 [==============================] - 32s 31us/step - loss: 0.4049 - accuracy: 0.8131 - val_loss: 0.5017 - val_accuracy: 0.7639\n",
            "Epoch 9/10\n",
            "1024000/1024000 [==============================] - 32s 31us/step - loss: 0.3996 - accuracy: 0.8160 - val_loss: 0.5073 - val_accuracy: 0.7637\n",
            "Epoch 10/10\n",
            "1024000/1024000 [==============================] - 32s 31us/step - loss: 0.3950 - accuracy: 0.8186 - val_loss: 0.5124 - val_accuracy: 0.7611\n"
          ],
          "name": "stdout"
        }
      ]
    },
    {
      "cell_type": "markdown",
      "metadata": {
        "id": "bwdtMR65HX_p",
        "colab_type": "text"
      },
      "source": [
        "# **Visualizing the Performance of the Model**\n",
        "Although we added pretrained word embedding, the model is still overfitting. The reasons why the model is overfitting may be:\n",
        "- the model suffers from not having any memory to remember all sentence structure(we should try to add an LSTM model and dropout)"
      ]
    },
    {
      "cell_type": "code",
      "metadata": {
        "id": "ukFgl3dW0lhq",
        "colab_type": "code",
        "outputId": "08d7cc19-608e-40c9-a3ff-994520334a05",
        "colab": {
          "base_uri": "https://localhost:8080/",
          "height": 545
        }
      },
      "source": [
        "acc = history.history['accuracy']\n",
        "val_acc = history.history['val_accuracy']\n",
        "loss = history.history['loss']\n",
        "val_loss = history.history['val_loss']\n",
        "epochs = range(1, len(acc) + 1)\n",
        "plt.plot(epochs, acc, 'bo', label='Training accuracy')\n",
        "plt.plot(epochs, val_acc, 'b', label='Validation accuracy')\n",
        "plt.title('Training and validation accuracy')\n",
        "plt.legend()\n",
        "plt.figure()\n",
        "plt.plot(epochs, loss, 'bo', label='Training loss')\n",
        "plt.plot(epochs, val_loss, 'b', label='Validation loss')\n",
        "plt.title('Training and validation loss')\n",
        "plt.legend()\n",
        "plt.show()"
      ],
      "execution_count": 0,
      "outputs": [
        {
          "output_type": "display_data",
          "data": {
            "image/png": "[encoded data removed]",
            "text/plain": [
              "<Figure size 432x288 with 1 Axes>"
            ]
          },
          "metadata": {
            "tags": [],
            "needs_background": "light"
          }
        },
        {
          "output_type": "display_data",
          "data": {
            "image/png": "[encoded data removed]",
            "text/plain": [
              "<Figure size 432x288 with 1 Axes>"
            ]
          },
          "metadata": {
            "tags": [],
            "needs_background": "light"
          }
        }
      ]
    },
    {
      "cell_type": "markdown",
      "metadata": {
        "id": "dg93sb8LJ195",
        "colab_type": "text"
      },
      "source": [
        "# **Using LSTM layer with pretrained Embedding layer and dropouts**\n",
        "Models we created earlier suffers from remembering problem. Imagine that you read a book word by word and you do not remember what the previous word is. So you can not learn from this book. LSTM layer solves remembering problem for us. Imagine a conveyor belt running parallel to the sequence you are processing. Information from the sequence can jump onto the conveyor  belt  at  any  point,  be  transported  to  a  later  timestep,  and  jump  off,  intact,when  you  need  it.  This  is  essentially  what  LSTM  does:  it  saves  information  for  later,thus preventing older signals from gradually vanishing during processing. To fight overfitting we need to construct a model with the pretrained embedding layer and an lstm layer that includes dropout and recurrent dropout.\n",
        "- dropout,  a  float  specifying  the  dropout  rate  for  input  units  of  the  layer\n",
        "- recurrent_dropout, specifying the dropout rate of the recurrent units\n",
        "\n",
        " "
      ]
    },
    {
      "cell_type": "code",
      "metadata": {
        "id": "8wjDpd8713jc",
        "colab_type": "code",
        "colab": {}
      },
      "source": [
        "from keras.layers import LSTM\n",
        "\n",
        "model = Sequential()\n",
        "model.add(embedding_layer)\n",
        "model.add(LSTM(128, dropout=0.2, recurrent_dropout=0.2))\n",
        "model.add(Dense(1, activation='sigmoid'))"
      ],
      "execution_count": 0,
      "outputs": []
    },
    {
      "cell_type": "code",
      "metadata": {
        "id": "Avc4IyyK239i",
        "colab_type": "code",
        "colab": {}
      },
      "source": [
        "model.compile(optimizer='rmsprop', \n",
        "              loss='binary_crossentropy', \n",
        "              metrics=['accuracy'])"
      ],
      "execution_count": 0,
      "outputs": []
    },
    {
      "cell_type": "code",
      "metadata": {
        "id": "klM4Stnf27VB",
        "colab_type": "code",
        "outputId": "f1b9094b-5f10-4d41-85cf-b43134ce521a",
        "colab": {
          "base_uri": "https://localhost:8080/",
          "height": 403
        }
      },
      "source": [
        "history = model.fit(x_train, y_train,\n",
        "                    epochs=10,\n",
        "                    batch_size=1024,\n",
        "                    validation_split=0.2)"
      ],
      "execution_count": 0,
      "outputs": [
        {
          "output_type": "stream",
          "text": [
            "Train on 1024000 samples, validate on 256000 samples\n",
            "Epoch 1/10\n",
            "1024000/1024000 [==============================] - 758s 740us/step - loss: 0.4773 - accuracy: 0.7696 - val_loss: 0.4490 - val_accuracy: 0.7869\n",
            "Epoch 2/10\n",
            "1024000/1024000 [==============================] - 752s 734us/step - loss: 0.4491 - accuracy: 0.7865 - val_loss: 0.4400 - val_accuracy: 0.7924\n",
            "Epoch 3/10\n",
            "1024000/1024000 [==============================] - 803s 784us/step - loss: 0.4386 - accuracy: 0.7930 - val_loss: 0.4364 - val_accuracy: 0.7947\n",
            "Epoch 4/10\n",
            "1024000/1024000 [==============================] - 801s 782us/step - loss: 0.4322 - accuracy: 0.7969 - val_loss: 0.4357 - val_accuracy: 0.7952\n",
            "Epoch 5/10\n",
            "1024000/1024000 [==============================] - 806s 787us/step - loss: 0.4269 - accuracy: 0.7998 - val_loss: 0.4330 - val_accuracy: 0.7965\n",
            "Epoch 6/10\n",
            "1024000/1024000 [==============================] - 789s 770us/step - loss: 0.4308 - accuracy: 0.7979 - val_loss: 0.4340 - val_accuracy: 0.7970\n",
            "Epoch 7/10\n",
            "1024000/1024000 [==============================] - 769s 751us/step - loss: 0.4220 - accuracy: 0.8027 - val_loss: 0.4335 - val_accuracy: 0.7974\n",
            "Epoch 8/10\n",
            "1024000/1024000 [==============================] - 759s 741us/step - loss: 0.4208 - accuracy: 0.8032 - val_loss: 0.4372 - val_accuracy: 0.7954\n",
            "Epoch 9/10\n",
            "1024000/1024000 [==============================] - 783s 765us/step - loss: 0.4175 - accuracy: 0.8054 - val_loss: 0.4333 - val_accuracy: 0.7974\n",
            "Epoch 10/10\n",
            "1024000/1024000 [==============================] - 813s 794us/step - loss: 0.4144 - accuracy: 0.8071 - val_loss: 0.4336 - val_accuracy: 0.7970\n"
          ],
          "name": "stdout"
        }
      ]
    },
    {
      "cell_type": "markdown",
      "metadata": {
        "id": "7bHs2vmKPqLx",
        "colab_type": "text"
      },
      "source": [
        "# **Visualizing the Performance of the Model**\n",
        "Thanks to the lstm layer with droputs, we can say that the new model is not overfitting (accuracy - vall_accuracy and loss - val_loss are similar). We can take this model as a solution. But let's investigate what happens when we add more(stacking) sequential lstm layer. "
      ]
    },
    {
      "cell_type": "code",
      "metadata": {
        "id": "PuxZDE9C2-tT",
        "colab_type": "code",
        "outputId": "597036db-93c0-4320-a258-9e0d859afda4",
        "colab": {
          "base_uri": "https://localhost:8080/",
          "height": 545
        }
      },
      "source": [
        "acc = history.history['accuracy']\n",
        "val_acc = history.history['val_accuracy']\n",
        "loss = history.history['loss']\n",
        "val_loss = history.history['val_loss']\n",
        "epochs = range(1, len(acc) + 1)\n",
        "plt.plot(epochs, acc, 'bo', label='Training accuracy')\n",
        "plt.plot(epochs, val_acc, 'b', label='Validation accuracy')\n",
        "plt.title('Training and validation accuracy')\n",
        "plt.legend()\n",
        "plt.figure()\n",
        "plt.plot(epochs, loss, 'bo', label='Training loss')\n",
        "plt.plot(epochs, val_loss, 'b', label='Validation loss')\n",
        "plt.title('Training and validation loss')\n",
        "plt.legend()\n",
        "plt.show()"
      ],
      "execution_count": 0,
      "outputs": [
        {
          "output_type": "display_data",
          "data": {
            "image/png": "[encoded data removed]",
            "text/plain": [
              "<Figure size 432x288 with 1 Axes>"
            ]
          },
          "metadata": {
            "tags": [],
            "needs_background": "light"
          }
        },
        {
          "output_type": "display_data",
          "data": {
            "image/png": "[encoded data removed]",
            "text/plain": [
              "<Figure size 432x288 with 1 Axes>"
            ]
          },
          "metadata": {
            "tags": [],
            "needs_background": "light"
          }
        }
      ]
    },
    {
      "cell_type": "code",
      "metadata": {
        "id": "EQFwVB6QeXHY",
        "colab_type": "code",
        "colab": {}
      },
      "source": [
        "model.save('lstm_model.h5')"
      ],
      "execution_count": 0,
      "outputs": []
    },
    {
      "cell_type": "markdown",
      "metadata": {
        "id": "W-ZeuQp5SAr1",
        "colab_type": "text"
      },
      "source": [
        "# **Using Recurrent layer Stacking with CuDNNLSTM**\n",
        "Since ordinary lstm models take too much time to train(estimation training time of 3 lstm layer for our problem is near 10 hours), let's use CuDNNLSTM layer for recurrent layer stacking. CuDNNLSTM uses NVIDIA cuDNN technology to train neural networks fast (https://developer.nvidia.com/cudnn) and it RUNS ONLY ON GPUs. Let's define 3 CuDNNLSTM layer to investigate whether recurrent layer stacking is better or not. return_sequences = True means that return the last output. "
      ]
    },
    {
      "cell_type": "code",
      "metadata": {
        "id": "3uTpMLRVEYDL",
        "colab_type": "code",
        "outputId": "70af832a-13b7-4423-8952-659fdfbe5847",
        "colab": {
          "base_uri": "https://localhost:8080/",
          "height": 164
        }
      },
      "source": [
        "!pip install --upgrade keras"
      ],
      "execution_count": 0,
      "outputs": [
        {
          "output_type": "stream",
          "text": [
            "Requirement already up-to-date: keras in /usr/local/lib/python3.6/dist-packages (2.3.1)\n",
            "Requirement already satisfied, skipping upgrade: six>=1.9.0 in /usr/local/lib/python3.6/dist-packages (from keras) (1.12.0)\n",
            "Requirement already satisfied, skipping upgrade: pyyaml in /usr/local/lib/python3.6/dist-packages (from keras) (3.13)\n",
            "Requirement already satisfied, skipping upgrade: h5py in /usr/local/lib/python3.6/dist-packages (from keras) (2.10.0)\n",
            "Requirement already satisfied, skipping upgrade: numpy>=1.9.1 in /usr/local/lib/python3.6/dist-packages (from keras) (1.18.4)\n",
            "Requirement already satisfied, skipping upgrade: keras-preprocessing>=1.0.5 in /usr/local/lib/python3.6/dist-packages (from keras) (1.1.2)\n",
            "Requirement already satisfied, skipping upgrade: scipy>=0.14 in /usr/local/lib/python3.6/dist-packages (from keras) (1.4.1)\n",
            "Requirement already satisfied, skipping upgrade: keras-applications>=1.0.6 in /usr/local/lib/python3.6/dist-packages (from keras) (1.0.8)\n"
          ],
          "name": "stdout"
        }
      ]
    },
    {
      "cell_type": "code",
      "metadata": {
        "id": "P2g5v1EnUE-C",
        "colab_type": "code",
        "colab": {}
      },
      "source": [
        "from tensorflow.keras.layers import Embedding\n",
        "\n",
        "embedding_layer = Embedding(vocab_size, 300, weights=[embedding_matrix], input_length=300, trainable=False)"
      ],
      "execution_count": 0,
      "outputs": []
    },
    {
      "cell_type": "code",
      "metadata": {
        "id": "dpbGGQagIUQq",
        "colab_type": "code",
        "outputId": "d0c9a785-d0a2-4f9c-84c1-d6e434cfbea6",
        "colab": {
          "base_uri": "https://localhost:8080/",
          "height": 348
        }
      },
      "source": [
        "from tensorflow.compat.v1.keras.layers import CuDNNLSTM\n",
        "from tensorflow.keras import Sequential\n",
        "from tensorflow.keras.layers import Embedding, Dense\n",
        "\n",
        "model_cudnn = Sequential()\n",
        "model_cudnn.add(embedding_layer)\n",
        "model_cudnn.add(CuDNNLSTM(32, return_sequences = True))\n",
        "model_cudnn.add(CuDNNLSTM(64, return_sequences = True))\n",
        "model_cudnn.add(CuDNNLSTM(128))\n",
        "model_cudnn.add(Dense(1, activation = 'sigmoid'))\n",
        "\n",
        "model_cudnn.summary()"
      ],
      "execution_count": 0,
      "outputs": [
        {
          "output_type": "stream",
          "text": [
            "Model: \"sequential_5\"\n",
            "_________________________________________________________________\n",
            "Layer (type)                 Output Shape              Param #   \n",
            "=================================================================\n",
            "embedding_3 (Embedding)      (None, 300, 300)          87125700  \n",
            "_________________________________________________________________\n",
            "cu_dnnlstm_7 (CuDNNLSTM)     (None, 300, 32)           42752     \n",
            "_________________________________________________________________\n",
            "cu_dnnlstm_8 (CuDNNLSTM)     (None, 300, 64)           25088     \n",
            "_________________________________________________________________\n",
            "cu_dnnlstm_9 (CuDNNLSTM)     (None, 128)               99328     \n",
            "_________________________________________________________________\n",
            "dense_2 (Dense)              (None, 1)                 129       \n",
            "=================================================================\n",
            "Total params: 87,292,997\n",
            "Trainable params: 167,297\n",
            "Non-trainable params: 87,125,700\n",
            "_________________________________________________________________\n"
          ],
          "name": "stdout"
        }
      ]
    },
    {
      "cell_type": "code",
      "metadata": {
        "id": "u2bxgftkIel-",
        "colab_type": "code",
        "colab": {}
      },
      "source": [
        "model_cudnn.compile(optimizer='rmsprop', \n",
        "              loss='binary_crossentropy', \n",
        "              metrics=['accuracy'])"
      ],
      "execution_count": 0,
      "outputs": []
    },
    {
      "cell_type": "code",
      "metadata": {
        "id": "TnR8p3WETXO5",
        "colab_type": "code",
        "outputId": "a8c55fc1-4256-453d-a537-e9589dc98e19",
        "colab": {
          "base_uri": "https://localhost:8080/",
          "height": 384
        }
      },
      "source": [
        "history_cudnn = model_cudnn.fit(x_train, y_train,\n",
        "                    epochs=10,\n",
        "                    batch_size=1024,\n",
        "                    validation_split=0.2)"
      ],
      "execution_count": 0,
      "outputs": [
        {
          "output_type": "stream",
          "text": [
            "Epoch 1/10\n",
            "1000/1000 [==============================] - 548s 548ms/step - loss: 0.4674 - accuracy: 0.7760 - val_loss: 0.4506 - val_accuracy: 0.7859\n",
            "Epoch 2/10\n",
            "1000/1000 [==============================] - 549s 549ms/step - loss: 0.4427 - accuracy: 0.7909 - val_loss: 0.4447 - val_accuracy: 0.7903\n",
            "Epoch 3/10\n",
            "1000/1000 [==============================] - 548s 548ms/step - loss: 0.4349 - accuracy: 0.7956 - val_loss: 0.4405 - val_accuracy: 0.7924\n",
            "Epoch 4/10\n",
            "1000/1000 [==============================] - 547s 547ms/step - loss: 0.4284 - accuracy: 0.7994 - val_loss: 0.4398 - val_accuracy: 0.7929\n",
            "Epoch 5/10\n",
            "1000/1000 [==============================] - 549s 549ms/step - loss: 0.4240 - accuracy: 0.8020 - val_loss: 0.4383 - val_accuracy: 0.7932\n",
            "Epoch 6/10\n",
            "1000/1000 [==============================] - 548s 548ms/step - loss: 0.4205 - accuracy: 0.8041 - val_loss: 0.4378 - val_accuracy: 0.7931\n",
            "Epoch 7/10\n",
            "1000/1000 [==============================] - 547s 547ms/step - loss: 0.4174 - accuracy: 0.8057 - val_loss: 0.4387 - val_accuracy: 0.7926\n",
            "Epoch 8/10\n",
            "1000/1000 [==============================] - 551s 551ms/step - loss: 0.4147 - accuracy: 0.8072 - val_loss: 0.4385 - val_accuracy: 0.7932\n",
            "Epoch 9/10\n",
            "1000/1000 [==============================] - 551s 551ms/step - loss: 0.4123 - accuracy: 0.8084 - val_loss: 0.4379 - val_accuracy: 0.7930\n",
            "Epoch 10/10\n",
            "1000/1000 [==============================] - 550s 550ms/step - loss: 0.4100 - accuracy: 0.8099 - val_loss: 0.4402 - val_accuracy: 0.7927\n"
          ],
          "name": "stdout"
        }
      ]
    },
    {
      "cell_type": "markdown",
      "metadata": {
        "id": "kLvVgdtJVbuV",
        "colab_type": "text"
      },
      "source": [
        "# **Visualizing the Performance of the Model**\n",
        "\n",
        "Thanks to the CuDNNLSTM layers, we can say that the new model is nearly same previous LSTM model. But computational time of CuDNNLSTM is half of previous lstm model (2 hours vs 1 hour). Also we have nearly same accuracy - validation accuracy - test scores. So that, we can take this model as a solution model for our problem."
      ]
    },
    {
      "cell_type": "code",
      "metadata": {
        "id": "yzM-Md6PkFWh",
        "colab_type": "code",
        "outputId": "74182ec1-cc8d-44f1-adb1-4e17f08aa2f9",
        "colab": {
          "base_uri": "https://localhost:8080/",
          "height": 545
        }
      },
      "source": [
        "acc = history_cudnn.history['accuracy']\n",
        "val_acc = history_cudnn.history['val_accuracy']\n",
        "loss = history_cudnn.history['loss']\n",
        "val_loss = history_cudnn.history['val_loss']\n",
        "epochs = range(1, len(acc) + 1)\n",
        "plt.plot(epochs, acc, 'bo', label='Training accuracy')\n",
        "plt.plot(epochs, val_acc, 'b', label='Validation accuracy')\n",
        "plt.title('Training and validation accuracy')\n",
        "plt.legend()\n",
        "plt.figure()\n",
        "plt.plot(epochs, loss, 'bo', label='Training loss')\n",
        "plt.plot(epochs, val_loss, 'b', label='Validation loss')\n",
        "plt.title('Training and validation loss')\n",
        "plt.legend()\n",
        "plt.show()"
      ],
      "execution_count": 0,
      "outputs": [
        {
          "output_type": "display_data",
          "data": {
            "image/png": "[encoded data removed]",
            "text/plain": [
              "<Figure size 432x288 with 1 Axes>"
            ]
          },
          "metadata": {
            "tags": [],
            "needs_background": "light"
          }
        },
        {
          "output_type": "display_data",
          "data": {
            "image/png": "[encoded data removed]",
            "text/plain": [
              "<Figure size 432x288 with 1 Axes>"
            ]
          },
          "metadata": {
            "tags": [],
            "needs_background": "light"
          }
        }
      ]
    },
    {
      "cell_type": "code",
      "metadata": {
        "id": "8z6dg2sKkOJ7",
        "colab_type": "code",
        "outputId": "f2eff35a-cf08-40fb-9f9a-2783b4368293",
        "colab": {
          "base_uri": "https://localhost:8080/",
          "height": 109
        }
      },
      "source": [
        "score = model_cudnn.evaluate(x_test, y_test, batch_size=1024)\n",
        "print('\\n--- TEST SCORE ---')\n",
        "print(\"Accuracy:\", score[1])\n",
        "print(\"Loss:\", score[0])"
      ],
      "execution_count": 0,
      "outputs": [
        {
          "output_type": "stream",
          "text": [
            "313/313 [==============================] - 71s 226ms/step - loss: 0.4399 - accuracy: 0.7937\n",
            "\n",
            "--- TEST SCORE ---\n",
            "Accuracy: 0.7937343716621399\n",
            "Loss: 0.43990108370780945\n"
          ],
          "name": "stdout"
        }
      ]
    },
    {
      "cell_type": "markdown",
      "metadata": {
        "id": "x5lUTUYiW2UY",
        "colab_type": "text"
      },
      "source": [
        "# **Test the Model with Sample Sentences**\n",
        "Let's test our model with sample sentences to find out whether the sentence is positive or negative."
      ]
    },
    {
      "cell_type": "code",
      "metadata": {
        "id": "AAGOf0Ixabs4",
        "colab_type": "code",
        "colab": {}
      },
      "source": [
        "def decode_sentiment(score):\n",
        "  if score < 0.5:\n",
        "    return 'Negative'\n",
        "  else:\n",
        "    return 'Positive'"
      ],
      "execution_count": 0,
      "outputs": []
    },
    {
      "cell_type": "code",
      "metadata": {
        "id": "j3S9zr0z2CZN",
        "colab_type": "code",
        "colab": {}
      },
      "source": [
        "def predict_tweet(text):\n",
        "    # Tokenize text\n",
        "    x_test = pad_sequences(tokenizer.texts_to_sequences([text]), maxlen = 300)\n",
        "    # Predict\n",
        "    score = model_cudnn.predict([x_test])[0]\n",
        "    # Decode sentiment\n",
        "    label = decode_sentiment(score)\n",
        "\n",
        "    return {\"label\": label, \"score\": float(score)}"
      ],
      "execution_count": 0,
      "outputs": []
    },
    {
      "cell_type": "code",
      "metadata": {
        "id": "ZVQWVU8PqsjS",
        "colab_type": "code",
        "outputId": "3b7b5848-250d-4058-cc76-eedf9da89e4b",
        "colab": {
          "base_uri": "https://localhost:8080/",
          "height": 35
        }
      },
      "source": [
        "predict_tweet('I love the music')"
      ],
      "execution_count": 0,
      "outputs": [
        {
          "output_type": "execute_result",
          "data": {
            "text/plain": [
              "{'label': 'Positive', 'score': 0.9732761979103088}"
            ]
          },
          "metadata": {
            "tags": []
          },
          "execution_count": 61
        }
      ]
    },
    {
      "cell_type": "code",
      "metadata": {
        "id": "ragWn6b4q8Um",
        "colab_type": "code",
        "outputId": "702dac88-ccbe-4c46-85f8-62afd95e39e4",
        "colab": {
          "base_uri": "https://localhost:8080/",
          "height": 35
        }
      },
      "source": [
        "predict_tweet('I hate dogs')"
      ],
      "execution_count": 0,
      "outputs": [
        {
          "output_type": "execute_result",
          "data": {
            "text/plain": [
              "{'label': 'Negative', 'score': 0.0392216257750988}"
            ]
          },
          "metadata": {
            "tags": []
          },
          "execution_count": 62
        }
      ]
    },
    {
      "cell_type": "code",
      "metadata": {
        "id": "Fa_AFWN5rGx_",
        "colab_type": "code",
        "outputId": "2fd73575-c4d3-4726-ac63-7f78057b42d3",
        "colab": {
          "base_uri": "https://localhost:8080/",
          "height": 35
        }
      },
      "source": [
        "predict_tweet('The weather is rainy tomorrow')"
      ],
      "execution_count": 0,
      "outputs": [
        {
          "output_type": "execute_result",
          "data": {
            "text/plain": [
              "{'label': 'Negative', 'score': 0.03448782116174698}"
            ]
          },
          "metadata": {
            "tags": []
          },
          "execution_count": 63
        }
      ]
    },
    {
      "cell_type": "code",
      "metadata": {
        "id": "tHZvR35wrNAZ",
        "colab_type": "code",
        "outputId": "bda63445-d18a-4246-fac6-01bd29c06d01",
        "colab": {
          "base_uri": "https://localhost:8080/",
          "height": 35
        }
      },
      "source": [
        "predict_tweet('my cat is so stupid')"
      ],
      "execution_count": 0,
      "outputs": [
        {
          "output_type": "execute_result",
          "data": {
            "text/plain": [
              "{'label': 'Negative', 'score': 0.16725490987300873}"
            ]
          },
          "metadata": {
            "tags": []
          },
          "execution_count": 65
        }
      ]
    },
    {
      "cell_type": "code",
      "metadata": {
        "id": "gdkwCyZlrxXP",
        "colab_type": "code",
        "outputId": "597b3d25-216e-429d-ff4f-707f9b791958",
        "colab": {
          "base_uri": "https://localhost:8080/",
          "height": 35
        }
      },
      "source": [
        "predict_tweet('i have two tickets to the Iron Maiden concert')"
      ],
      "execution_count": 0,
      "outputs": [
        {
          "output_type": "execute_result",
          "data": {
            "text/plain": [
              "{'label': 'Positive', 'score': 0.6529272198677063}"
            ]
          },
          "metadata": {
            "tags": []
          },
          "execution_count": 66
        }
      ]
    },
    {
      "cell_type": "code",
      "metadata": {
        "id": "xhKJBtoKshOD",
        "colab_type": "code",
        "outputId": "3a41e0dc-773f-43e7-8b92-f9c46022e78a",
        "colab": {
          "base_uri": "https://localhost:8080/",
          "height": 35
        }
      },
      "source": [
        "predict_tweet('I have a ticket to the Slayer concert')"
      ],
      "execution_count": 0,
      "outputs": [
        {
          "output_type": "execute_result",
          "data": {
            "text/plain": [
              "{'label': 'Positive', 'score': 0.747378945350647}"
            ]
          },
          "metadata": {
            "tags": []
          },
          "execution_count": 67
        }
      ]
    },
    {
      "cell_type": "code",
      "metadata": {
        "id": "0yZmKfHBsqbL",
        "colab_type": "code",
        "colab": {}
      },
      "source": [
        ""
      ],
      "execution_count": 0,
      "outputs": []
    }
  ]
}